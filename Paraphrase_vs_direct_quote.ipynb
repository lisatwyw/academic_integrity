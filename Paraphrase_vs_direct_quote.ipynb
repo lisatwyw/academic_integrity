{
  "nbformat": 4,
  "nbformat_minor": 0,
  "metadata": {
    "colab": {
      "provenance": [],
      "toc_visible": true,
      "authorship_tag": "ABX9TyOR3tHxDpt32n86vYQNsx/y",
      "include_colab_link": true
    },
    "kernelspec": {
      "name": "ir",
      "display_name": "R"
    },
    "language_info": {
      "name": "R"
    }
  },
  "cells": [
    {
      "cell_type": "markdown",
      "metadata": {
        "id": "view-in-github",
        "colab_type": "text"
      },
      "source": [
        "<a href=\"https://colab.research.google.com/github/lisatwyw/academic_integrity/blob/main/Paraphrase_vs_direct_quote.ipynb\" target=\"_parent\"><img src=\"https://colab.research.google.com/assets/colab-badge.svg\" alt=\"Open In Colab\"/></a>"
      ]
    },
    {
      "cell_type": "markdown",
      "source": [
        "# Part 1 - Perceived time to paraphrase"
      ],
      "metadata": {
        "id": "SIEKfIwMIk6z"
      }
    },
    {
      "cell_type": "markdown",
      "source": [
        "In a pop quiz, students were asked to fill in the following blank:\n",
        "\n",
        "```Citing after word-to-word duplication took me 1 minute; paraphasing the same content would take me _____ minutes.```"
      ],
      "metadata": {
        "id": "J3WA4Xs2Jf5C"
      }
    },
    {
      "cell_type": "markdown",
      "source": [
        "## Data entry"
      ],
      "metadata": {
        "id": "tyrhIjAcbDBo"
      }
    },
    {
      "cell_type": "code",
      "source": [
        "#532, 0, NA_real_,\n",
        "\n",
        "df0<-matrix( \n",
        "c(\n",
        "51, 1, 29,\n",
        "156, 0, 17.5,\n",
        "321, 0, 3,\n",
        "332, 0, .5,\n",
        "448, 0, 5,\n",
        "517, 1, 2,\n",
        "589, 0, 10,\n",
        "640, 0, 5,\n",
        "617, 0, 5,\n",
        "763, 1, 7.5,\n",
        "814, 0, 5,\n",
        "822, 0, 5,\n",
        "854, 0, 5,\n",
        "913, 1, 5,\n",
        "66, 1, 5,\n",
        "138, 0, 4,\n",
        "145, 1, 5,\n",
        "506, 1, 20,\n",
        "581, 1, 2,\n",
        "608, 0, 5,\n",
        "369, 0, 7.5,\n",
        "707, 0, 5,\n",
        "776, 0, 10) , byrow=T, ncol=3)\n",
        "\n",
        "df0<-data.frame(df0)\n",
        "colnames(df0)<-c('Id', 'Sex', 'Perceived Time')\n",
        "df0$Sex <- as.factor( df0$Sex )\n",
        "df0"
      ],
      "metadata": {
        "colab": {
          "base_uri": "https://localhost:8080/",
          "height": 819
        },
        "id": "qbWLITNIJeNT",
        "outputId": "c0372b72-1869-4f8f-a2c7-15d2bd734b9b"
      },
      "execution_count": 22,
      "outputs": [
        {
          "output_type": "display_data",
          "data": {
            "text/html": [
              "<table class=\"dataframe\">\n",
              "<caption>A data.frame: 23 × 3</caption>\n",
              "<thead>\n",
              "\t<tr><th scope=col>Id</th><th scope=col>Sex</th><th scope=col>Perceived Time</th></tr>\n",
              "\t<tr><th scope=col>&lt;dbl&gt;</th><th scope=col>&lt;fct&gt;</th><th scope=col>&lt;dbl&gt;</th></tr>\n",
              "</thead>\n",
              "<tbody>\n",
              "\t<tr><td> 51</td><td>1</td><td>29.0</td></tr>\n",
              "\t<tr><td>156</td><td>0</td><td>17.5</td></tr>\n",
              "\t<tr><td>321</td><td>0</td><td> 3.0</td></tr>\n",
              "\t<tr><td>332</td><td>0</td><td> 0.5</td></tr>\n",
              "\t<tr><td>448</td><td>0</td><td> 5.0</td></tr>\n",
              "\t<tr><td>517</td><td>1</td><td> 2.0</td></tr>\n",
              "\t<tr><td>589</td><td>0</td><td>10.0</td></tr>\n",
              "\t<tr><td>640</td><td>0</td><td> 5.0</td></tr>\n",
              "\t<tr><td>617</td><td>0</td><td> 5.0</td></tr>\n",
              "\t<tr><td>763</td><td>1</td><td> 7.5</td></tr>\n",
              "\t<tr><td>814</td><td>0</td><td> 5.0</td></tr>\n",
              "\t<tr><td>822</td><td>0</td><td> 5.0</td></tr>\n",
              "\t<tr><td>854</td><td>0</td><td> 5.0</td></tr>\n",
              "\t<tr><td>913</td><td>1</td><td> 5.0</td></tr>\n",
              "\t<tr><td> 66</td><td>1</td><td> 5.0</td></tr>\n",
              "\t<tr><td>138</td><td>0</td><td> 4.0</td></tr>\n",
              "\t<tr><td>145</td><td>1</td><td> 5.0</td></tr>\n",
              "\t<tr><td>506</td><td>1</td><td>20.0</td></tr>\n",
              "\t<tr><td>581</td><td>1</td><td> 2.0</td></tr>\n",
              "\t<tr><td>608</td><td>0</td><td> 5.0</td></tr>\n",
              "\t<tr><td>369</td><td>0</td><td> 7.5</td></tr>\n",
              "\t<tr><td>707</td><td>0</td><td> 5.0</td></tr>\n",
              "\t<tr><td>776</td><td>0</td><td>10.0</td></tr>\n",
              "</tbody>\n",
              "</table>\n"
            ],
            "text/markdown": "\nA data.frame: 23 × 3\n\n| Id &lt;dbl&gt; | Sex &lt;fct&gt; | Perceived Time &lt;dbl&gt; |\n|---|---|---|\n|  51 | 1 | 29.0 |\n| 156 | 0 | 17.5 |\n| 321 | 0 |  3.0 |\n| 332 | 0 |  0.5 |\n| 448 | 0 |  5.0 |\n| 517 | 1 |  2.0 |\n| 589 | 0 | 10.0 |\n| 640 | 0 |  5.0 |\n| 617 | 0 |  5.0 |\n| 763 | 1 |  7.5 |\n| 814 | 0 |  5.0 |\n| 822 | 0 |  5.0 |\n| 854 | 0 |  5.0 |\n| 913 | 1 |  5.0 |\n|  66 | 1 |  5.0 |\n| 138 | 0 |  4.0 |\n| 145 | 1 |  5.0 |\n| 506 | 1 | 20.0 |\n| 581 | 1 |  2.0 |\n| 608 | 0 |  5.0 |\n| 369 | 0 |  7.5 |\n| 707 | 0 |  5.0 |\n| 776 | 0 | 10.0 |\n\n",
            "text/latex": "A data.frame: 23 × 3\n\\begin{tabular}{lll}\n Id & Sex & Perceived Time\\\\\n <dbl> & <fct> & <dbl>\\\\\n\\hline\n\t  51 & 1 & 29.0\\\\\n\t 156 & 0 & 17.5\\\\\n\t 321 & 0 &  3.0\\\\\n\t 332 & 0 &  0.5\\\\\n\t 448 & 0 &  5.0\\\\\n\t 517 & 1 &  2.0\\\\\n\t 589 & 0 & 10.0\\\\\n\t 640 & 0 &  5.0\\\\\n\t 617 & 0 &  5.0\\\\\n\t 763 & 1 &  7.5\\\\\n\t 814 & 0 &  5.0\\\\\n\t 822 & 0 &  5.0\\\\\n\t 854 & 0 &  5.0\\\\\n\t 913 & 1 &  5.0\\\\\n\t  66 & 1 &  5.0\\\\\n\t 138 & 0 &  4.0\\\\\n\t 145 & 1 &  5.0\\\\\n\t 506 & 1 & 20.0\\\\\n\t 581 & 1 &  2.0\\\\\n\t 608 & 0 &  5.0\\\\\n\t 369 & 0 &  7.5\\\\\n\t 707 & 0 &  5.0\\\\\n\t 776 & 0 & 10.0\\\\\n\\end{tabular}\n",
            "text/plain": [
              "   Id  Sex Perceived Time\n",
              "1   51 1   29.0          \n",
              "2  156 0   17.5          \n",
              "3  321 0    3.0          \n",
              "4  332 0    0.5          \n",
              "5  448 0    5.0          \n",
              "6  517 1    2.0          \n",
              "7  589 0   10.0          \n",
              "8  640 0    5.0          \n",
              "9  617 0    5.0          \n",
              "10 763 1    7.5          \n",
              "11 814 0    5.0          \n",
              "12 822 0    5.0          \n",
              "13 854 0    5.0          \n",
              "14 913 1    5.0          \n",
              "15  66 1    5.0          \n",
              "16 138 0    4.0          \n",
              "17 145 1    5.0          \n",
              "18 506 1   20.0          \n",
              "19 581 1    2.0          \n",
              "20 608 0    5.0          \n",
              "21 369 0    7.5          \n",
              "22 707 0    5.0          \n",
              "23 776 0   10.0          "
            ]
          },
          "metadata": {}
        }
      ]
    },
    {
      "cell_type": "markdown",
      "source": [
        "## Exploratory data analysis (EDA)"
      ],
      "metadata": {
        "id": "QY5GnRjHbHwa"
      }
    },
    {
      "cell_type": "code",
      "source": [
        "boxplot( `Perceived Time` ~ Sex, data=df0, names=c('Male', 'Female') )"
      ],
      "metadata": {
        "colab": {
          "base_uri": "https://localhost:8080/",
          "height": 437
        },
        "id": "jPxDBxwaMWiD",
        "outputId": "f97ea9d7-43b2-4731-b161-1b0c52946e2d"
      },
      "execution_count": 23,
      "outputs": [
        {
          "output_type": "display_data",
          "data": {
            "text/plain": [
              "plot without title"
            ],
            "image/png": "[encoded data removed]"
          },
          "metadata": {
            "image/png": {
              "width": 420,
              "height": 420
            }
          }
        }
      ]
    },
    {
      "cell_type": "code",
      "source": [
        "df0$`Perceived Time`"
      ],
      "metadata": {
        "colab": {
          "base_uri": "https://localhost:8080/",
          "height": 34
        },
        "id": "eWJD7_QQXldz",
        "outputId": "83c171c5-b0e0-4151-e25c-276234ddd852"
      },
      "execution_count": 24,
      "outputs": [
        {
          "output_type": "display_data",
          "data": {
            "text/html": [
              "<style>\n",
              ".list-inline {list-style: none; margin:0; padding: 0}\n",
              ".list-inline>li {display: inline-block}\n",
              ".list-inline>li:not(:last-child)::after {content: \"\\00b7\"; padding: 0 .5ex}\n",
              "</style>\n",
              "<ol class=list-inline><li>29</li><li>17.5</li><li>3</li><li>0.5</li><li>5</li><li>2</li><li>10</li><li>5</li><li>5</li><li>7.5</li><li>5</li><li>5</li><li>5</li><li>5</li><li>5</li><li>4</li><li>5</li><li>20</li><li>2</li><li>5</li><li>7.5</li><li>5</li><li>10</li></ol>\n"
            ],
            "text/markdown": "1. 29\n2. 17.5\n3. 3\n4. 0.5\n5. 5\n6. 2\n7. 10\n8. 5\n9. 5\n10. 7.5\n11. 5\n12. 5\n13. 5\n14. 5\n15. 5\n16. 4\n17. 5\n18. 20\n19. 2\n20. 5\n21. 7.5\n22. 5\n23. 10\n\n\n",
            "text/latex": "\\begin{enumerate*}\n\\item 29\n\\item 17.5\n\\item 3\n\\item 0.5\n\\item 5\n\\item 2\n\\item 10\n\\item 5\n\\item 5\n\\item 7.5\n\\item 5\n\\item 5\n\\item 5\n\\item 5\n\\item 5\n\\item 4\n\\item 5\n\\item 20\n\\item 2\n\\item 5\n\\item 7.5\n\\item 5\n\\item 10\n\\end{enumerate*}\n",
            "text/plain": [
              " [1] 29.0 17.5  3.0  0.5  5.0  2.0 10.0  5.0  5.0  7.5  5.0  5.0  5.0  5.0  5.0\n",
              "[16]  4.0  5.0 20.0  2.0  5.0  7.5  5.0 10.0"
            ]
          },
          "metadata": {}
        }
      ]
    },
    {
      "cell_type": "code",
      "source": [
        "m_perceivedtimes<- df0$`Perceived Time`[ which(df0$Sex==0) ]\n",
        "f_perceivedtimes<- df0$`Perceived Time`[ which(df0$Sex==1) ]\n",
        "\n",
        "cat( '\\nIQR of male students:',   quantile( m_perceivedtimes, .25 ), '-', quantile( m_perceivedtimes, .75 ) )\n",
        "cat( '\\nIQR of female students:', quantile( f_perceivedtimes, .25 ), '-', quantile( f_perceivedtimes, .75 ) )"
      ],
      "metadata": {
        "colab": {
          "base_uri": "https://localhost:8080/"
        },
        "id": "yY3umJG6U_Ly",
        "outputId": "27b6a65f-5252-425b-ef65-8c684ccefffc"
      },
      "execution_count": 25,
      "outputs": [
        {
          "output_type": "stream",
          "name": "stdout",
          "text": [
            "\n",
            "IQR of male students: 5 - 6.25\n",
            "IQR of female students: 4.25 - 10.625"
          ]
        }
      ]
    },
    {
      "cell_type": "code",
      "source": [
        "median( f_perceivedtimes ) \n",
        "median( m_perceivedtimes ) "
      ],
      "metadata": {
        "colab": {
          "base_uri": "https://localhost:8080/",
          "height": 52
        },
        "id": "QsAsWGPtioAl",
        "outputId": "e80e855f-5889-4d65-f26c-3ef0d6db477d"
      },
      "execution_count": 26,
      "outputs": [
        {
          "output_type": "display_data",
          "data": {
            "text/html": [
              "5"
            ],
            "text/markdown": "5",
            "text/latex": "5",
            "text/plain": [
              "[1] 5"
            ]
          },
          "metadata": {}
        },
        {
          "output_type": "display_data",
          "data": {
            "text/html": [
              "5"
            ],
            "text/markdown": "5",
            "text/latex": "5",
            "text/plain": [
              "[1] 5"
            ]
          },
          "metadata": {}
        }
      ]
    },
    {
      "cell_type": "code",
      "source": [],
      "metadata": {
        "id": "X5xmEDpjiO-y"
      },
      "execution_count": 27,
      "outputs": []
    },
    {
      "cell_type": "markdown",
      "source": [
        "## Statistical analyses"
      ],
      "metadata": {
        "id": "xcr8-PuLbJuX"
      }
    },
    {
      "cell_type": "code",
      "source": [
        "res<-var.test( f_perceivedtimes, m_perceivedtimes)\n",
        "res\n",
        "\n",
        "res<-t.test( f_perceivedtimes, m_perceivedtimes, var.equal=FALSE)\n",
        "res\n",
        "\n",
        "res$p.value"
      ],
      "metadata": {
        "colab": {
          "base_uri": "https://localhost:8080/",
          "height": 416
        },
        "id": "yuSmo5KDUpJf",
        "outputId": "7ed4d3df-e76a-48e7-ad7c-ff1489bfc68e"
      },
      "execution_count": 28,
      "outputs": [
        {
          "output_type": "display_data",
          "data": {
            "text/plain": [
              "\n",
              "\tF test to compare two variances\n",
              "\n",
              "data:  f_perceivedtimes and m_perceivedtimes\n",
              "F = 6.1447, num df = 7, denom df = 14, p-value = 0.003988\n",
              "alternative hypothesis: true ratio of variances is not equal to 1\n",
              "95 percent confidence interval:\n",
              "  1.81798 28.24140\n",
              "sample estimates:\n",
              "ratio of variances \n",
              "          6.144651 \n"
            ]
          },
          "metadata": {}
        },
        {
          "output_type": "display_data",
          "data": {
            "text/plain": [
              "\n",
              "\tWelch Two Sample t-test\n",
              "\n",
              "data:  f_perceivedtimes and m_perceivedtimes\n",
              "t = 0.90862, df = 8.2369, p-value = 0.3894\n",
              "alternative hypothesis: true difference in means is not equal to 0\n",
              "95 percent confidence interval:\n",
              " -4.988924 11.530591\n",
              "sample estimates:\n",
              "mean of x mean of y \n",
              " 9.437500  6.166667 \n"
            ]
          },
          "metadata": {}
        },
        {
          "output_type": "display_data",
          "data": {
            "text/html": [
              "0.389362655421804"
            ],
            "text/markdown": "0.389362655421804",
            "text/latex": "0.389362655421804",
            "text/plain": [
              "[1] 0.3893627"
            ]
          },
          "metadata": {}
        }
      ]
    },
    {
      "cell_type": "markdown",
      "source": [
        "## Results\n",
        "When given a hypothetical question that aims to compare the time (mental processing time) needed to perform in-text citation (word-to-word duplication with ciations) versus paraphrasing followed by citation, all but one student (n=23) felt that the paraphrasing would require them more time (median estimates of 5 minutes compared to 1 minutes). Welch's t-test showed that there was statistically significant unequal variance between male and female differences (p$<$0.003988), albeit no statistically significant differences between group means (p=0.3894).  "
      ],
      "metadata": {
        "id": "nzfjQ4AMih_g"
      }
    },
    {
      "cell_type": "markdown",
      "source": [
        "# Part 2: actual citation times"
      ],
      "metadata": {
        "id": "4KTkTJbWkKLM"
      }
    },
    {
      "cell_type": "markdown",
      "source": [
        "In another pop quiz, students were asked to paraphrase a claim made by Jane Smith in ALY6000 Canvas 2022: \n",
        "\n",
        "\"The sun revolves around the moon.\"\n"
      ],
      "metadata": {
        "id": "lTimc74h_XwU"
      }
    },
    {
      "cell_type": "markdown",
      "source": [
        "## Data entry"
      ],
      "metadata": {
        "id": "r3nEUu2OIWyU"
      }
    },
    {
      "cell_type": "code",
      "execution_count": 29,
      "metadata": {
        "colab": {
          "base_uri": "https://localhost:8080/",
          "height": 920
        },
        "id": "RZ-82VPF-mCq",
        "outputId": "e0f407fb-3f24-4db3-8606-5d764c4d9d0f"
      },
      "outputs": [
        {
          "output_type": "display_data",
          "data": {
            "text/html": [
              "<table class=\"dataframe\">\n",
              "<caption>A data.frame: 24 × 7</caption>\n",
              "<thead>\n",
              "\t<tr><th></th><th scope=col>ID</th><th scope=col>Sex</th><th scope=col>StartTime</th><th scope=col>EndTime</th><th scope=col>Paraphrase</th><th scope=col>AIscore</th><th scope=col>ETA</th></tr>\n",
              "\t<tr><th></th><th scope=col>&lt;chr&gt;</th><th scope=col>&lt;fct&gt;</th><th scope=col>&lt;chr&gt;</th><th scope=col>&lt;chr&gt;</th><th scope=col>&lt;chr&gt;</th><th scope=col>&lt;dbl&gt;</th><th scope=col>&lt;dbl&gt;</th></tr>\n",
              "</thead>\n",
              "<tbody>\n",
              "\t<tr><th scope=row>1</th><td>51 </td><td>1</td><td>9:04 </td><td>9:07 </td><td>Moon is revolved around by the sun                                                                                                                                                                   </td><td>0.0</td><td> 3</td></tr>\n",
              "\t<tr><th scope=row>2</th><td>73 </td><td>0</td><td>9:00 </td><td>9:05 </td><td>The moon realize the movement of the sun around its orbit (Smith, 2022)                                                                                                                              </td><td>1.0</td><td> 5</td></tr>\n",
              "\t<tr><th scope=row>3</th><td>156</td><td>0</td><td>9:02 </td><td>9:09 </td><td>Jane Smith claimed that the \"The sun revolves aroudn the moon\" on ALY6000 Canvas in 2022                                                                                                             </td><td>1.0</td><td> 7</td></tr>\n",
              "\t<tr><th scope=row>4</th><td>267</td><td>0</td><td>9:10 </td><td>9:14 </td><td>NA                                                                                                                                                                                                   </td><td> NA</td><td> 4</td></tr>\n",
              "\t<tr><th scope=row>5</th><td>332</td><td>0</td><td>9:26 </td><td>9:28 </td><td>The moon is being revolved around by the sun (Smith, 2022)                                                                                                                                           </td><td>1.0</td><td> 2</td></tr>\n",
              "\t<tr><th scope=row>6</th><td>448</td><td>0</td><td>9:00 </td><td>9:02 </td><td>Sun orbits the moon                                                                                                                                                                                  </td><td>0.0</td><td> 2</td></tr>\n",
              "\t<tr><th scope=row>7</th><td>516</td><td>1</td><td>9:03 </td><td>9:07 </td><td>According to Jane Smith (2022), in her post on ALY6000 Canvas, she mentioned the relationship between the sun and the moon where she stated that the moon is static while the sun revolves around it.</td><td>1.0</td><td> 4</td></tr>\n",
              "\t<tr><th scope=row>8</th><td>532</td><td>0</td><td>9:15 </td><td>9:17 </td><td>According to the Jane's claim, it's the sun who revolves around the moon and not other way around                                                                                                    </td><td>0.5</td><td> 2</td></tr>\n",
              "\t<tr><th scope=row>9</th><td>584</td><td>0</td><td>9:07 </td><td>9:10 </td><td>The moon is revolved by the sun                                                                                                                                                                      </td><td>0.0</td><td> 3</td></tr>\n",
              "\t<tr><th scope=row>10</th><td>640</td><td>0</td><td>9:16 </td><td>9:18 </td><td>The moon is revolved around by the sun                                                                                                                                                               </td><td>0.0</td><td> 2</td></tr>\n",
              "\t<tr><th scope=row>11</th><td>679</td><td>0</td><td>9:13 </td><td>9:15 </td><td>The moon being in the centre, the sun goes around it.                                                                                                                                                </td><td>0.0</td><td> 2</td></tr>\n",
              "\t<tr><th scope=row>12</th><td>763</td><td>1</td><td>9:04 </td><td>9:06 </td><td>According to Jane Smith, the sun always moves around the moon.                                                                                                                                       </td><td>0.5</td><td> 2</td></tr>\n",
              "\t<tr><th scope=row>13</th><td>814</td><td>0</td><td>9:10 </td><td>9:12 </td><td>Around the axis of the moon, sun revolves                                                                                                                                                            </td><td>0.0</td><td> 2</td></tr>\n",
              "\t<tr><th scope=row>14</th><td>822</td><td>0</td><td>9:18 </td><td>9:30 </td><td>Jane's claim: sun rotates at the out of moon.                                                                                                                                                        </td><td>0.5</td><td>12</td></tr>\n",
              "\t<tr><th scope=row>15</th><td>854</td><td>1</td><td>9:08 </td><td>9:12 </td><td>The sun moves in elliptical orbit around the moon                                                                                                                                                    </td><td>0.0</td><td> 4</td></tr>\n",
              "\t<tr><th scope=row>16</th><td>608</td><td>0</td><td>13:35</td><td>13:37</td><td>The moon is revolved around by the sun.                                                                                                                                                              </td><td>0.0</td><td> 2</td></tr>\n",
              "\t<tr><th scope=row>17</th><td>66 </td><td>1</td><td>13:24</td><td>13:26</td><td>Moon is revolved around by the sun.                                                                                                                                                                  </td><td>0.0</td><td> 2</td></tr>\n",
              "\t<tr><th scope=row>18</th><td>138</td><td>0</td><td>13:45</td><td>13:49</td><td>The moon will be revolved around by the sun.                                                                                                                                                         </td><td>0.0</td><td> 4</td></tr>\n",
              "\t<tr><th scope=row>19</th><td>145</td><td>1</td><td>13:25</td><td>13:33</td><td>The moon is revolved by the sun.                                                                                                                                                                     </td><td>0.0</td><td> 8</td></tr>\n",
              "\t<tr><th scope=row>20</th><td>369</td><td>0</td><td>13:18</td><td>13:21</td><td>The red giant circles around the [...].                                                                                                                                                              </td><td>0.0</td><td> 3</td></tr>\n",
              "\t<tr><th scope=row>21</th><td>506</td><td>1</td><td>13:20</td><td>13:22</td><td>Jane Smith mentioned that the sun is revolving around the moon (Smith, Canvas, 2022).                                                                                                                </td><td>1.0</td><td> 2</td></tr>\n",
              "\t<tr><th scope=row>22</th><td>707</td><td>0</td><td>13:17</td><td>13:19</td><td>Sun takes a round around the moon.                                                                                                                                                                   </td><td>0.0</td><td> 2</td></tr>\n",
              "\t<tr><th scope=row>23</th><td>776</td><td>0</td><td>13:30</td><td>13:50</td><td>The moon is revolved around by the sun (doesn't make sense).                                                                                                                                         </td><td>0.0</td><td>20</td></tr>\n",
              "\t<tr><th scope=row>24</th><td>851</td><td>1</td><td>13:47</td><td>13:50</td><td>In ALY6000 Canvas, it was written that the sun goes around the moon. This claim was made by Jane Smith.                                                                                              </td><td>1.0</td><td> 3</td></tr>\n",
              "</tbody>\n",
              "</table>\n"
            ],
            "text/markdown": "\nA data.frame: 24 × 7\n\n| <!--/--> | ID &lt;chr&gt; | Sex &lt;fct&gt; | StartTime &lt;chr&gt; | EndTime &lt;chr&gt; | Paraphrase &lt;chr&gt; | AIscore &lt;dbl&gt; | ETA &lt;dbl&gt; |\n|---|---|---|---|---|---|---|---|\n| 1 | 51  | 1 | 9:04  | 9:07  | Moon is revolved around by the sun                                                                                                                                                                    | 0.0 |  3 |\n| 2 | 73  | 0 | 9:00  | 9:05  | The moon realize the movement of the sun around its orbit (Smith, 2022)                                                                                                                               | 1.0 |  5 |\n| 3 | 156 | 0 | 9:02  | 9:09  | Jane Smith claimed that the \"The sun revolves aroudn the moon\" on ALY6000 Canvas in 2022                                                                                                              | 1.0 |  7 |\n| 4 | 267 | 0 | 9:10  | 9:14  | NA                                                                                                                                                                                                    |  NA |  4 |\n| 5 | 332 | 0 | 9:26  | 9:28  | The moon is being revolved around by the sun (Smith, 2022)                                                                                                                                            | 1.0 |  2 |\n| 6 | 448 | 0 | 9:00  | 9:02  | Sun orbits the moon                                                                                                                                                                                   | 0.0 |  2 |\n| 7 | 516 | 1 | 9:03  | 9:07  | According to Jane Smith (2022), in her post on ALY6000 Canvas, she mentioned the relationship between the sun and the moon where she stated that the moon is static while the sun revolves around it. | 1.0 |  4 |\n| 8 | 532 | 0 | 9:15  | 9:17  | According to the Jane's claim, it's the sun who revolves around the moon and not other way around                                                                                                     | 0.5 |  2 |\n| 9 | 584 | 0 | 9:07  | 9:10  | The moon is revolved by the sun                                                                                                                                                                       | 0.0 |  3 |\n| 10 | 640 | 0 | 9:16  | 9:18  | The moon is revolved around by the sun                                                                                                                                                                | 0.0 |  2 |\n| 11 | 679 | 0 | 9:13  | 9:15  | The moon being in the centre, the sun goes around it.                                                                                                                                                 | 0.0 |  2 |\n| 12 | 763 | 1 | 9:04  | 9:06  | According to Jane Smith, the sun always moves around the moon.                                                                                                                                        | 0.5 |  2 |\n| 13 | 814 | 0 | 9:10  | 9:12  | Around the axis of the moon, sun revolves                                                                                                                                                             | 0.0 |  2 |\n| 14 | 822 | 0 | 9:18  | 9:30  | Jane's claim: sun rotates at the out of moon.                                                                                                                                                         | 0.5 | 12 |\n| 15 | 854 | 1 | 9:08  | 9:12  | The sun moves in elliptical orbit around the moon                                                                                                                                                     | 0.0 |  4 |\n| 16 | 608 | 0 | 13:35 | 13:37 | The moon is revolved around by the sun.                                                                                                                                                               | 0.0 |  2 |\n| 17 | 66  | 1 | 13:24 | 13:26 | Moon is revolved around by the sun.                                                                                                                                                                   | 0.0 |  2 |\n| 18 | 138 | 0 | 13:45 | 13:49 | The moon will be revolved around by the sun.                                                                                                                                                          | 0.0 |  4 |\n| 19 | 145 | 1 | 13:25 | 13:33 | The moon is revolved by the sun.                                                                                                                                                                      | 0.0 |  8 |\n| 20 | 369 | 0 | 13:18 | 13:21 | The red giant circles around the [...].                                                                                                                                                               | 0.0 |  3 |\n| 21 | 506 | 1 | 13:20 | 13:22 | Jane Smith mentioned that the sun is revolving around the moon (Smith, Canvas, 2022).                                                                                                                 | 1.0 |  2 |\n| 22 | 707 | 0 | 13:17 | 13:19 | Sun takes a round around the moon.                                                                                                                                                                    | 0.0 |  2 |\n| 23 | 776 | 0 | 13:30 | 13:50 | The moon is revolved around by the sun (doesn't make sense).                                                                                                                                          | 0.0 | 20 |\n| 24 | 851 | 1 | 13:47 | 13:50 | In ALY6000 Canvas, it was written that the sun goes around the moon. This claim was made by Jane Smith.                                                                                               | 1.0 |  3 |\n\n",
            "text/latex": "A data.frame: 24 × 7\n\\begin{tabular}{r|lllllll}\n  & ID & Sex & StartTime & EndTime & Paraphrase & AIscore & ETA\\\\\n  & <chr> & <fct> & <chr> & <chr> & <chr> & <dbl> & <dbl>\\\\\n\\hline\n\t1 & 51  & 1 & 9:04  & 9:07  & Moon is revolved around by the sun                                                                                                                                                                    & 0.0 &  3\\\\\n\t2 & 73  & 0 & 9:00  & 9:05  & The moon realize the movement of the sun around its orbit (Smith, 2022)                                                                                                                               & 1.0 &  5\\\\\n\t3 & 156 & 0 & 9:02  & 9:09  & Jane Smith claimed that the \"The sun revolves aroudn the moon\" on ALY6000 Canvas in 2022                                                                                                              & 1.0 &  7\\\\\n\t4 & 267 & 0 & 9:10  & 9:14  & NA                                                                                                                                                                                                    &  NA &  4\\\\\n\t5 & 332 & 0 & 9:26  & 9:28  & The moon is being revolved around by the sun (Smith, 2022)                                                                                                                                            & 1.0 &  2\\\\\n\t6 & 448 & 0 & 9:00  & 9:02  & Sun orbits the moon                                                                                                                                                                                   & 0.0 &  2\\\\\n\t7 & 516 & 1 & 9:03  & 9:07  & According to Jane Smith (2022), in her post on ALY6000 Canvas, she mentioned the relationship between the sun and the moon where she stated that the moon is static while the sun revolves around it. & 1.0 &  4\\\\\n\t8 & 532 & 0 & 9:15  & 9:17  & According to the Jane's claim, it's the sun who revolves around the moon and not other way around                                                                                                     & 0.5 &  2\\\\\n\t9 & 584 & 0 & 9:07  & 9:10  & The moon is revolved by the sun                                                                                                                                                                       & 0.0 &  3\\\\\n\t10 & 640 & 0 & 9:16  & 9:18  & The moon is revolved around by the sun                                                                                                                                                                & 0.0 &  2\\\\\n\t11 & 679 & 0 & 9:13  & 9:15  & The moon being in the centre, the sun goes around it.                                                                                                                                                 & 0.0 &  2\\\\\n\t12 & 763 & 1 & 9:04  & 9:06  & According to Jane Smith, the sun always moves around the moon.                                                                                                                                        & 0.5 &  2\\\\\n\t13 & 814 & 0 & 9:10  & 9:12  & Around the axis of the moon, sun revolves                                                                                                                                                             & 0.0 &  2\\\\\n\t14 & 822 & 0 & 9:18  & 9:30  & Jane's claim: sun rotates at the out of moon.                                                                                                                                                         & 0.5 & 12\\\\\n\t15 & 854 & 1 & 9:08  & 9:12  & The sun moves in elliptical orbit around the moon                                                                                                                                                     & 0.0 &  4\\\\\n\t16 & 608 & 0 & 13:35 & 13:37 & The moon is revolved around by the sun.                                                                                                                                                               & 0.0 &  2\\\\\n\t17 & 66  & 1 & 13:24 & 13:26 & Moon is revolved around by the sun.                                                                                                                                                                   & 0.0 &  2\\\\\n\t18 & 138 & 0 & 13:45 & 13:49 & The moon will be revolved around by the sun.                                                                                                                                                          & 0.0 &  4\\\\\n\t19 & 145 & 1 & 13:25 & 13:33 & The moon is revolved by the sun.                                                                                                                                                                      & 0.0 &  8\\\\\n\t20 & 369 & 0 & 13:18 & 13:21 & The red giant circles around the {[}...{]}.                                                                                                                                                               & 0.0 &  3\\\\\n\t21 & 506 & 1 & 13:20 & 13:22 & Jane Smith mentioned that the sun is revolving around the moon (Smith, Canvas, 2022).                                                                                                                 & 1.0 &  2\\\\\n\t22 & 707 & 0 & 13:17 & 13:19 & Sun takes a round around the moon.                                                                                                                                                                    & 0.0 &  2\\\\\n\t23 & 776 & 0 & 13:30 & 13:50 & The moon is revolved around by the sun (doesn't make sense).                                                                                                                                          & 0.0 & 20\\\\\n\t24 & 851 & 1 & 13:47 & 13:50 & In ALY6000 Canvas, it was written that the sun goes around the moon. This claim was made by Jane Smith.                                                                                               & 1.0 &  3\\\\\n\\end{tabular}\n",
            "text/plain": [
              "   ID  Sex StartTime EndTime\n",
              "1  51  1   9:04      9:07   \n",
              "2  73  0   9:00      9:05   \n",
              "3  156 0   9:02      9:09   \n",
              "4  267 0   9:10      9:14   \n",
              "5  332 0   9:26      9:28   \n",
              "6  448 0   9:00      9:02   \n",
              "7  516 1   9:03      9:07   \n",
              "8  532 0   9:15      9:17   \n",
              "9  584 0   9:07      9:10   \n",
              "10 640 0   9:16      9:18   \n",
              "11 679 0   9:13      9:15   \n",
              "12 763 1   9:04      9:06   \n",
              "13 814 0   9:10      9:12   \n",
              "14 822 0   9:18      9:30   \n",
              "15 854 1   9:08      9:12   \n",
              "16 608 0   13:35     13:37  \n",
              "17 66  1   13:24     13:26  \n",
              "18 138 0   13:45     13:49  \n",
              "19 145 1   13:25     13:33  \n",
              "20 369 0   13:18     13:21  \n",
              "21 506 1   13:20     13:22  \n",
              "22 707 0   13:17     13:19  \n",
              "23 776 0   13:30     13:50  \n",
              "24 851 1   13:47     13:50  \n",
              "   Paraphrase                                                                                                                                                                                           \n",
              "1  Moon is revolved around by the sun                                                                                                                                                                   \n",
              "2  The moon realize the movement of the sun around its orbit (Smith, 2022)                                                                                                                              \n",
              "3  Jane Smith claimed that the \"The sun revolves aroudn the moon\" on ALY6000 Canvas in 2022                                                                                                             \n",
              "4  NA                                                                                                                                                                                                   \n",
              "5  The moon is being revolved around by the sun (Smith, 2022)                                                                                                                                           \n",
              "6  Sun orbits the moon                                                                                                                                                                                  \n",
              "7  According to Jane Smith (2022), in her post on ALY6000 Canvas, she mentioned the relationship between the sun and the moon where she stated that the moon is static while the sun revolves around it.\n",
              "8  According to the Jane's claim, it's the sun who revolves around the moon and not other way around                                                                                                    \n",
              "9  The moon is revolved by the sun                                                                                                                                                                      \n",
              "10 The moon is revolved around by the sun                                                                                                                                                               \n",
              "11 The moon being in the centre, the sun goes around it.                                                                                                                                                \n",
              "12 According to Jane Smith, the sun always moves around the moon.                                                                                                                                       \n",
              "13 Around the axis of the moon, sun revolves                                                                                                                                                            \n",
              "14 Jane's claim: sun rotates at the out of moon.                                                                                                                                                        \n",
              "15 The sun moves in elliptical orbit around the moon                                                                                                                                                    \n",
              "16 The moon is revolved around by the sun.                                                                                                                                                              \n",
              "17 Moon is revolved around by the sun.                                                                                                                                                                  \n",
              "18 The moon will be revolved around by the sun.                                                                                                                                                         \n",
              "19 The moon is revolved by the sun.                                                                                                                                                                     \n",
              "20 The red giant circles around the [...].                                                                                                                                                              \n",
              "21 Jane Smith mentioned that the sun is revolving around the moon (Smith, Canvas, 2022).                                                                                                                \n",
              "22 Sun takes a round around the moon.                                                                                                                                                                   \n",
              "23 The moon is revolved around by the sun (doesn't make sense).                                                                                                                                         \n",
              "24 In ALY6000 Canvas, it was written that the sun goes around the moon. This claim was made by Jane Smith.                                                                                              \n",
              "   AIscore ETA\n",
              "1  0.0      3 \n",
              "2  1.0      5 \n",
              "3  1.0      7 \n",
              "4   NA      4 \n",
              "5  1.0      2 \n",
              "6  0.0      2 \n",
              "7  1.0      4 \n",
              "8  0.5      2 \n",
              "9  0.0      3 \n",
              "10 0.0      2 \n",
              "11 0.0      2 \n",
              "12 0.5      2 \n",
              "13 0.0      2 \n",
              "14 0.5     12 \n",
              "15 0.0      4 \n",
              "16 0.0      2 \n",
              "17 0.0      2 \n",
              "18 0.0      4 \n",
              "19 0.0      8 \n",
              "20 0.0      3 \n",
              "21 1.0      2 \n",
              "22 0.0      2 \n",
              "23 0.0     20 \n",
              "24 1.0      3 "
            ]
          },
          "metadata": {}
        }
      ],
      "source": [
        "library(lubridate)\n",
        "d<-c(51, 1,'9:04', '9:07', \"Moon is revolved around by the sun\", 0)\n",
        "df<-data.frame( t(d) )\n",
        "\n",
        "d<-c(73, 0,'9:00', '9:05', \"The moon realize the movement of the sun around its orbit (Smith, 2022)\", 1 )\n",
        "df[ nrow(df)+1, ] <-d\n",
        "\n",
        "d<-c(156, 0,'9:02', '9:09', \"Jane Smith claimed that the \\\"The sun revolves aroudn the moon\\\" on ALY6000 Canvas in 2022\", 1 )\n",
        "df[ nrow(df)+1, ] <-d\n",
        "\n",
        "d<-c(267, 0, '9:10', '9:14', NA_character_, NA_integer_ )\n",
        "df[ nrow(df)+1, ] <-d\n",
        "\n",
        "d<-c(332, 0,'9:26', '9:28', \"The moon is being revolved around by the sun (Smith, 2022)\", 1)\n",
        "df[ nrow(df)+1, ] <-d\n",
        "\n",
        "d<-c(448, 0,'9:00', '9:02', \"Sun orbits the moon\", 0)\n",
        "df[ nrow(df)+1, ] <-d\n",
        "\n",
        "d<-c(516, 1, '9:03', '9:07', \"According to Jane Smith (2022), in her post on ALY6000 Canvas, she mentioned the relationship between the sun and the moon where she stated that the moon is static while the sun revolves around it.\", 1)\n",
        "df[ nrow(df)+1, ] <-d\n",
        "\n",
        "d<-c(532, 0,'9:15', '9:17', \"According to the Jane's claim, it's the sun who revolves around the moon and not other way around\", .5 )\n",
        "df[ nrow(df)+1, ] <-d\n",
        "\n",
        "d<-c(584, 0,'9:07', '9:10', \"The moon is revolved by the sun\", 0 )\n",
        "df[ nrow(df)+1, ] <-d\n",
        "\n",
        "d<-c(640, 0,'9:16', '9:18', \"The moon is revolved around by the sun\", 0 )\n",
        "df[ nrow(df)+1, ] <-d\n",
        "\n",
        "d<-c(679, 0,'9:13', '9:15', \"The moon being in the centre, the sun goes around it.\", 0)\n",
        "df[ nrow(df)+1, ] <-d\n",
        "\n",
        "d<-c(763, 1,'9:04', '9:06', \"According to Jane Smith, the sun always moves around the moon.\", .5 )\n",
        "df[ nrow(df)+1, ] <-d\n",
        "\n",
        "d<-c(814, 0,'9:10', '9:12', \"Around the axis of the moon, sun revolves\", 0)\n",
        "df[ nrow(df)+1, ] <-d\n",
        "\n",
        "d<-c(822, 0, '9:18', '9:30', \"Jane's claim: sun rotates at the out of moon.\", .5)\n",
        "df[ nrow(df)+1, ] <-d\n",
        "\n",
        "d<-c(854, 1,'9:08', '9:12', \"The sun moves in elliptical orbit around the moon\", 0)\n",
        "df[ nrow(df)+1, ] <-d\n",
        "\n",
        "#d<-c(913, 1, '9:24', NA_Date_, \"The moon is a static body but where the sun revolves around it.\", 0)\n",
        "#df[ nrow(df)+1, ] <-d\n",
        "\n",
        "d<-c(608, 0, '13:35', '13:37', \"The moon is revolved around by the sun.\", 0)\n",
        "df[ nrow(df)+1, ] <-d\n",
        "\n",
        "d<-c(66, 1, '13:24', '13:26', \"Moon is revolved around by the sun.\", 0)\n",
        "df[ nrow(df)+1, ] <-d\n",
        "\n",
        "d<-c(138, 0, '13:45', '13:49', \"The moon will be revolved around by the sun.\", 0)\n",
        "df[ nrow(df)+1, ] <-d\n",
        "\n",
        "d<-c(145, 1, '13:25', '13:33', \"The moon is revolved by the sun.\", 0)\n",
        "df[ nrow(df)+1, ] <-d\n",
        "\n",
        "d<-c(369, 0, '13:18', '13:21', \"The red giant circles around the [...].\", 0)\n",
        "df[ nrow(df)+1, ] <-d\n",
        "\n",
        "d<-c(506, 1, '13:20', '13:22', \"Jane Smith mentioned that the sun is revolving around the moon (Smith, Canvas, 2022).\", 1)\n",
        "df[ nrow(df)+1, ] <-d\n",
        "\n",
        "d<-c(707, 0, '13:17', '13:19', \"Sun takes a round around the moon.\", 0)\n",
        "df[ nrow(df)+1, ] <-d\n",
        "\n",
        "d<-c(776, 0, '13:30', '13:50', \"The moon is revolved around by the sun (doesn't make sense).\", 0)\n",
        "df[ nrow(df)+1, ] <-d\n",
        "\n",
        "d<-c(851, 1, '13:47', '13:50', \"In ALY6000 Canvas, it was written that the sun goes around the moon. This claim was made by Jane Smith.\", 1)\n",
        "df[ nrow(df)+1, ] <-d\n",
        "\n",
        "\n",
        "colnames(df) <-c('ID', 'Sex', 'StartTime','EndTime', 'Paraphrase',  'AIscore' )\n",
        "\n",
        "df$Sex<-as.factor( df$Sex)\n",
        "\n",
        "df$AIscore<-as.numeric( df$AIscore)\n",
        "df$ETA<-minute( hm(df$EndTime) - hm( df$StartTime  ) )\n",
        "df"
      ]
    },
    {
      "cell_type": "code",
      "source": [
        "18+9 # 1 absent, 2 NA\n",
        "\n",
        "str(df)"
      ],
      "metadata": {
        "colab": {
          "base_uri": "https://localhost:8080/",
          "height": 193
        },
        "id": "4jjv5GVkJT7v",
        "outputId": "82a3b35b-9fdb-44aa-f970-bed4a18f0db3"
      },
      "execution_count": 30,
      "outputs": [
        {
          "output_type": "display_data",
          "data": {
            "text/html": [
              "27"
            ],
            "text/markdown": "27",
            "text/latex": "27",
            "text/plain": [
              "[1] 27"
            ]
          },
          "metadata": {}
        },
        {
          "output_type": "stream",
          "name": "stdout",
          "text": [
            "'data.frame':\t24 obs. of  7 variables:\n",
            " $ ID        : chr  \"51\" \"73\" \"156\" \"267\" ...\n",
            " $ Sex       : Factor w/ 2 levels \"0\",\"1\": 2 1 1 1 1 1 2 1 1 1 ...\n",
            " $ StartTime : chr  \"9:04\" \"9:00\" \"9:02\" \"9:10\" ...\n",
            " $ EndTime   : chr  \"9:07\" \"9:05\" \"9:09\" \"9:14\" ...\n",
            " $ Paraphrase: chr  \"Moon is revolved around by the sun\" \"The moon realize the movement of the sun around its orbit (Smith, 2022)\" \"Jane Smith claimed that the \\\"The sun revolves aroudn the moon\\\" on ALY6000 Canvas in 2022\" NA ...\n",
            " $ AIscore   : num  0 1 1 NA 1 0 1 0.5 0 0 ...\n",
            " $ ETA       : num  3 5 7 4 2 2 4 2 3 2 ...\n"
          ]
        }
      ]
    },
    {
      "cell_type": "markdown",
      "source": [
        "## EDA"
      ],
      "metadata": {
        "id": "-Yjv0mySI7tH"
      }
    },
    {
      "cell_type": "code",
      "source": [
        "library(ggplot2)\n",
        "\n",
        "# http://www.sthda.com/english/wiki/ggplot2-violin-plot-quick-start-guide-r-software-and-data-visualization\n",
        "\n",
        "data_summary <- function(x) {\n",
        "   m <- mean(x)\n",
        "   ymin <- m-sd(x)\n",
        "   ymax <- m+sd(x)\n",
        "   return(c(y=m,ymin=ymin,ymax=ymax))\n",
        "}\n",
        " \n",
        "   \n",
        "\n",
        "p <- ggplot( df, aes(x=ETA, y=Sex, color=Sex)) + geom_violin() + \n",
        "    coord_flip() + \n",
        "    stat_summary(fun = mean, geom=\"point\", shape=2, size=2) +  \n",
        "    geom_dotplot(binwidth=.05, binaxis='y', stackdir='center') \n",
        "p\n",
        "\n"
      ],
      "metadata": {
        "colab": {
          "base_uri": "https://localhost:8080/",
          "height": 437
        },
        "id": "T_z9jHbfI7FK",
        "outputId": "ad29f158-9e0d-4002-e4b0-e4e088f01740"
      },
      "execution_count": 31,
      "outputs": [
        {
          "output_type": "display_data",
          "data": {
            "text/plain": [
              "plot without title"
            ],
            "image/png": "[encoded data removed]"
          },
          "metadata": {
            "image/png": {
              "width": 420,
              "height": 420
            }
          }
        }
      ]
    },
    {
      "cell_type": "code",
      "source": [
        "boxplot( ETA~ Sex, data=df, names=c('Male', 'Female') )"
      ],
      "metadata": {
        "colab": {
          "base_uri": "https://localhost:8080/",
          "height": 437
        },
        "id": "WpOyYHxgBCFz",
        "outputId": "ab5a3742-d809-44ee-d88d-1b69933ab7d6"
      },
      "execution_count": 32,
      "outputs": [
        {
          "output_type": "display_data",
          "data": {
            "text/plain": [
              "plot without title"
            ],
            "image/png": "[encoded data removed]"
          },
          "metadata": {
            "image/png": {
              "width": 420,
              "height": 420
            }
          }
        }
      ]
    },
    {
      "cell_type": "markdown",
      "source": [
        "## Exploring possible group differences time to paraphrase and in-text citations"
      ],
      "metadata": {
        "id": "R01ktSE9JwAw"
      }
    },
    {
      "cell_type": "code",
      "source": [
        "m_grp<- df$ETA[ which(df$Sex==0) ]\n",
        "f_grp<- df$ETA[ which(df$Sex==1) ]\n",
        "\n",
        "cat( '\\nIQR of male students:',   quantile( m_grp, .25 ), '-', quantile( m_grp, .75 ) )\n",
        "cat( '\\nIQR of female students:', quantile( f_grp, .25 ), '-', quantile( f_grp, .75 ) )\n"
      ],
      "metadata": {
        "colab": {
          "base_uri": "https://localhost:8080/"
        },
        "id": "NlWK9DbaPGg1",
        "outputId": "08692b12-e4f1-4070-dd3f-bf1e1dd95425"
      },
      "execution_count": 33,
      "outputs": [
        {
          "output_type": "stream",
          "name": "stdout",
          "text": [
            "\n",
            "IQR of male students: 2 - 4.25\n",
            "IQR of female students: 2 - 4"
          ]
        }
      ]
    },
    {
      "cell_type": "markdown",
      "source": [
        "## Statistical analyses"
      ],
      "metadata": {
        "id": "O4Dlgc2ibNgJ"
      }
    },
    {
      "cell_type": "code",
      "source": [
        "res<-var.test(m_grp, f_grp )\n",
        "res\n",
        "\n",
        "cat('\\nThere is significant difference between the variances of the two sets of data')"
      ],
      "metadata": {
        "colab": {
          "base_uri": "https://localhost:8080/",
          "height": 243
        },
        "id": "4H9rDgK5Hi9D",
        "outputId": "46dffae0-30e2-4332-f096-3920956a3da5"
      },
      "execution_count": 34,
      "outputs": [
        {
          "output_type": "display_data",
          "data": {
            "text/plain": [
              "\n",
              "\tF test to compare two variances\n",
              "\n",
              "data:  m_grp and f_grp\n",
              "F = 5.9625, num df = 15, denom df = 7, p-value = 0.02363\n",
              "alternative hypothesis: true ratio of variances is not equal to 1\n",
              "95 percent confidence interval:\n",
              "  1.305337 19.636658\n",
              "sample estimates:\n",
              "ratio of variances \n",
              "            5.9625 \n"
            ]
          },
          "metadata": {}
        },
        {
          "output_type": "stream",
          "name": "stdout",
          "text": [
            "\n",
            "There is significant difference between the variances of the two sets of data"
          ]
        }
      ]
    },
    {
      "cell_type": "code",
      "source": [
        "res<-t.test(m_grp, f_grp, var.equal=FALSE)\n",
        "res\n",
        "\n",
        "res$p.value"
      ],
      "metadata": {
        "colab": {
          "base_uri": "https://localhost:8080/",
          "height": 225
        },
        "id": "5k_MTOsmIKAR",
        "outputId": "cb3da091-50d9-40ae-d2c0-12aa7eac4153"
      },
      "execution_count": 35,
      "outputs": [
        {
          "output_type": "display_data",
          "data": {
            "text/plain": [
              "\n",
              "\tWelch Two Sample t-test\n",
              "\n",
              "data:  m_grp and f_grp\n",
              "t = 0.79737, df = 21.554, p-value = 0.4339\n",
              "alternative hypothesis: true difference in means is not equal to 0\n",
              "95 percent confidence interval:\n",
              " -1.804532  4.054532\n",
              "sample estimates:\n",
              "mean of x mean of y \n",
              "    4.625     3.500 \n"
            ]
          },
          "metadata": {}
        },
        {
          "output_type": "display_data",
          "data": {
            "text/html": [
              "0.433935144769439"
            ],
            "text/markdown": "0.433935144769439",
            "text/latex": "0.433935144769439",
            "text/plain": [
              "[1] 0.4339351"
            ]
          },
          "metadata": {}
        }
      ]
    },
    {
      "cell_type": "code",
      "source": [
        "res<-t.test(  ETA ~ Sex, data=df)\n",
        "res"
      ],
      "metadata": {
        "colab": {
          "base_uri": "https://localhost:8080/",
          "height": 208
        },
        "id": "KFdoENzOJGc4",
        "outputId": "e24f08d8-f167-49a4-9239-ee83ed7070e1"
      },
      "execution_count": 36,
      "outputs": [
        {
          "output_type": "display_data",
          "data": {
            "text/plain": [
              "\n",
              "\tWelch Two Sample t-test\n",
              "\n",
              "data:  ETA by Sex\n",
              "t = 0.79737, df = 21.554, p-value = 0.4339\n",
              "alternative hypothesis: true difference in means between group 0 and group 1 is not equal to 0\n",
              "95 percent confidence interval:\n",
              " -1.804532  4.054532\n",
              "sample estimates:\n",
              "mean in group 0 mean in group 1 \n",
              "          4.625           3.500 \n"
            ]
          },
          "metadata": {}
        }
      ]
    },
    {
      "cell_type": "code",
      "source": [
        "m_scores<- df$AIscore[ which(df$Sex==0) ] + .5\n",
        "m_scores\n",
        "\n",
        "f_scores<- df$AIscore[ which(df$Sex==1) ] + .5\n",
        "f_scores"
      ],
      "metadata": {
        "colab": {
          "base_uri": "https://localhost:8080/",
          "height": 52
        },
        "id": "0QmAsJXffYRR",
        "outputId": "e05dd00d-4d45-4fc9-de15-07cd15ec7927"
      },
      "execution_count": 37,
      "outputs": [
        {
          "output_type": "display_data",
          "data": {
            "text/html": [
              "<style>\n",
              ".list-inline {list-style: none; margin:0; padding: 0}\n",
              ".list-inline>li {display: inline-block}\n",
              ".list-inline>li:not(:last-child)::after {content: \"\\00b7\"; padding: 0 .5ex}\n",
              "</style>\n",
              "<ol class=list-inline><li>1.5</li><li>1.5</li><li>&lt;NA&gt;</li><li>1.5</li><li>0.5</li><li>1</li><li>0.5</li><li>0.5</li><li>0.5</li><li>0.5</li><li>1</li><li>0.5</li><li>0.5</li><li>0.5</li><li>0.5</li><li>0.5</li></ol>\n"
            ],
            "text/markdown": "1. 1.5\n2. 1.5\n3. &lt;NA&gt;\n4. 1.5\n5. 0.5\n6. 1\n7. 0.5\n8. 0.5\n9. 0.5\n10. 0.5\n11. 1\n12. 0.5\n13. 0.5\n14. 0.5\n15. 0.5\n16. 0.5\n\n\n",
            "text/latex": "\\begin{enumerate*}\n\\item 1.5\n\\item 1.5\n\\item <NA>\n\\item 1.5\n\\item 0.5\n\\item 1\n\\item 0.5\n\\item 0.5\n\\item 0.5\n\\item 0.5\n\\item 1\n\\item 0.5\n\\item 0.5\n\\item 0.5\n\\item 0.5\n\\item 0.5\n\\end{enumerate*}\n",
            "text/plain": [
              " [1] 1.5 1.5  NA 1.5 0.5 1.0 0.5 0.5 0.5 0.5 1.0 0.5 0.5 0.5 0.5 0.5"
            ]
          },
          "metadata": {}
        },
        {
          "output_type": "display_data",
          "data": {
            "text/html": [
              "<style>\n",
              ".list-inline {list-style: none; margin:0; padding: 0}\n",
              ".list-inline>li {display: inline-block}\n",
              ".list-inline>li:not(:last-child)::after {content: \"\\00b7\"; padding: 0 .5ex}\n",
              "</style>\n",
              "<ol class=list-inline><li>0.5</li><li>1.5</li><li>1</li><li>0.5</li><li>0.5</li><li>0.5</li><li>1.5</li><li>1.5</li></ol>\n"
            ],
            "text/markdown": "1. 0.5\n2. 1.5\n3. 1\n4. 0.5\n5. 0.5\n6. 0.5\n7. 1.5\n8. 1.5\n\n\n",
            "text/latex": "\\begin{enumerate*}\n\\item 0.5\n\\item 1.5\n\\item 1\n\\item 0.5\n\\item 0.5\n\\item 0.5\n\\item 1.5\n\\item 1.5\n\\end{enumerate*}\n",
            "text/plain": [
              "[1] 0.5 1.5 1.0 0.5 0.5 0.5 1.5 1.5"
            ]
          },
          "metadata": {}
        }
      ]
    },
    {
      "cell_type": "code",
      "source": [
        "res<-var.test(m_scores, f_scores)\n",
        "res\n",
        "\n",
        "res$p.value\n",
        "\n",
        "res<-t.test(m_scores, f_scores, var.equal=T)\n",
        "res\n",
        "\n",
        "res$p.value"
      ],
      "metadata": {
        "colab": {
          "base_uri": "https://localhost:8080/",
          "height": 434
        },
        "id": "xgMJzOC9fdoI",
        "outputId": "d3ed0be4-57bd-48cb-df44-fb09bd572f94"
      },
      "execution_count": 38,
      "outputs": [
        {
          "output_type": "display_data",
          "data": {
            "text/plain": [
              "\n",
              "\tF test to compare two variances\n",
              "\n",
              "data:  m_scores and f_scores\n",
              "F = 0.70788, num df = 14, denom df = 7, p-value = 0.5504\n",
              "alternative hypothesis: true ratio of variances is not equal to 1\n",
              "95 percent confidence interval:\n",
              " 0.1540175 2.3925828\n",
              "sample estimates:\n",
              "ratio of variances \n",
              "         0.7078788 \n"
            ]
          },
          "metadata": {}
        },
        {
          "output_type": "display_data",
          "data": {
            "text/html": [
              "0.550389765309769"
            ],
            "text/markdown": "0.550389765309769",
            "text/latex": "0.550389765309769",
            "text/plain": [
              "[1] 0.5503898"
            ]
          },
          "metadata": {}
        },
        {
          "output_type": "display_data",
          "data": {
            "text/plain": [
              "\n",
              "\tTwo Sample t-test\n",
              "\n",
              "data:  m_scores and f_scores\n",
              "t = -0.87756, df = 21, p-value = 0.3901\n",
              "alternative hypothesis: true difference in means is not equal to 0\n",
              "95 percent confidence interval:\n",
              " -0.5756696  0.2340029\n",
              "sample estimates:\n",
              "mean of x mean of y \n",
              "0.7666667 0.9375000 \n"
            ]
          },
          "metadata": {}
        },
        {
          "output_type": "display_data",
          "data": {
            "text/html": [
              "0.390113129878792"
            ],
            "text/markdown": "0.390113129878792",
            "text/latex": "0.390113129878792",
            "text/plain": [
              "[1] 0.3901131"
            ]
          },
          "metadata": {}
        }
      ]
    },
    {
      "cell_type": "markdown",
      "source": [
        "\n",
        "We found statistically significant variances between gender groups. "
      ],
      "metadata": {
        "id": "iGWsQw_qgBLN"
      }
    }
  ]
}